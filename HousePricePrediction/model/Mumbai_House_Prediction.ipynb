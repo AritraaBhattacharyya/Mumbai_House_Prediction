{
 "cells": [
  {
   "cell_type": "code",
   "execution_count": 1,
   "id": "55d3cea3",
   "metadata": {},
   "outputs": [],
   "source": [
    "import pandas as pd\n",
    "import numpy as np\n",
    "from matplotlib import pyplot as plt\n",
    "%matplotlib inline\n",
    "import matplotlib \n",
    "matplotlib.rcParams[\"figure.figsize\"] = (20,10)"
   ]
  },
  {
   "cell_type": "code",
   "execution_count": 2,
   "id": "e2eb1370",
   "metadata": {},
   "outputs": [
    {
     "data": {
      "text/html": [
       "<div>\n",
       "<style scoped>\n",
       "    .dataframe tbody tr th:only-of-type {\n",
       "        vertical-align: middle;\n",
       "    }\n",
       "\n",
       "    .dataframe tbody tr th {\n",
       "        vertical-align: top;\n",
       "    }\n",
       "\n",
       "    .dataframe thead th {\n",
       "        text-align: right;\n",
       "    }\n",
       "</style>\n",
       "<table border=\"1\" class=\"dataframe\">\n",
       "  <thead>\n",
       "    <tr style=\"text-align: right;\">\n",
       "      <th></th>\n",
       "      <th>size</th>\n",
       "      <th>type</th>\n",
       "      <th>location</th>\n",
       "      <th>total_sqft</th>\n",
       "      <th>price</th>\n",
       "      <th>price_unit</th>\n",
       "      <th>region</th>\n",
       "      <th>availability</th>\n",
       "      <th>age</th>\n",
       "    </tr>\n",
       "  </thead>\n",
       "  <tbody>\n",
       "    <tr>\n",
       "      <th>0</th>\n",
       "      <td>3</td>\n",
       "      <td>Apartment</td>\n",
       "      <td>Lak And Hanware The Residency Tower</td>\n",
       "      <td>685</td>\n",
       "      <td>2.50</td>\n",
       "      <td>Cr</td>\n",
       "      <td>Andheri West</td>\n",
       "      <td>Ready to move</td>\n",
       "      <td>New</td>\n",
       "    </tr>\n",
       "    <tr>\n",
       "      <th>1</th>\n",
       "      <td>2</td>\n",
       "      <td>Apartment</td>\n",
       "      <td>Radheya Sai Enclave Building No 2</td>\n",
       "      <td>640</td>\n",
       "      <td>52.51</td>\n",
       "      <td>L</td>\n",
       "      <td>Naigaon East</td>\n",
       "      <td>Under Construction</td>\n",
       "      <td>New</td>\n",
       "    </tr>\n",
       "    <tr>\n",
       "      <th>2</th>\n",
       "      <td>2</td>\n",
       "      <td>Apartment</td>\n",
       "      <td>Romell Serene</td>\n",
       "      <td>610</td>\n",
       "      <td>1.73</td>\n",
       "      <td>Cr</td>\n",
       "      <td>Borivali West</td>\n",
       "      <td>Under Construction</td>\n",
       "      <td>New</td>\n",
       "    </tr>\n",
       "    <tr>\n",
       "      <th>3</th>\n",
       "      <td>2</td>\n",
       "      <td>Apartment</td>\n",
       "      <td>Soundlines Codename Urban Rainforest</td>\n",
       "      <td>876</td>\n",
       "      <td>59.98</td>\n",
       "      <td>L</td>\n",
       "      <td>Panvel</td>\n",
       "      <td>Under Construction</td>\n",
       "      <td>New</td>\n",
       "    </tr>\n",
       "    <tr>\n",
       "      <th>4</th>\n",
       "      <td>2</td>\n",
       "      <td>Apartment</td>\n",
       "      <td>Origin Oriana</td>\n",
       "      <td>659</td>\n",
       "      <td>94.11</td>\n",
       "      <td>L</td>\n",
       "      <td>Mira Road East</td>\n",
       "      <td>Under Construction</td>\n",
       "      <td>New</td>\n",
       "    </tr>\n",
       "  </tbody>\n",
       "</table>\n",
       "</div>"
      ],
      "text/plain": [
       "   size       type                              location  total_sqft  price  \\\n",
       "0     3  Apartment   Lak And Hanware The Residency Tower         685   2.50   \n",
       "1     2  Apartment     Radheya Sai Enclave Building No 2         640  52.51   \n",
       "2     2  Apartment                         Romell Serene         610   1.73   \n",
       "3     2  Apartment  Soundlines Codename Urban Rainforest         876  59.98   \n",
       "4     2  Apartment                         Origin Oriana         659  94.11   \n",
       "\n",
       "  price_unit          region        availability  age  \n",
       "0         Cr    Andheri West       Ready to move  New  \n",
       "1          L    Naigaon East  Under Construction  New  \n",
       "2         Cr   Borivali West  Under Construction  New  \n",
       "3          L          Panvel  Under Construction  New  \n",
       "4          L  Mira Road East  Under Construction  New  "
      ]
     },
     "execution_count": 2,
     "metadata": {},
     "output_type": "execute_result"
    }
   ],
   "source": [
    "df1 = pd.read_csv(\"Mumbai_House_Prices.csv\")\n",
    "df1.head()"
   ]
  },
  {
   "cell_type": "code",
   "execution_count": 3,
   "id": "94bed5b7",
   "metadata": {},
   "outputs": [
    {
     "data": {
      "text/plain": [
       "(76038, 9)"
      ]
     },
     "execution_count": 3,
     "metadata": {},
     "output_type": "execute_result"
    }
   ],
   "source": [
    "df1.shape"
   ]
  },
  {
   "cell_type": "code",
   "execution_count": 4,
   "id": "737f70ad",
   "metadata": {},
   "outputs": [
    {
     "data": {
      "text/plain": [
       "Index(['size', 'type', 'location', 'total_sqft', 'price', 'price_unit',\n",
       "       'region', 'availability', 'age'],\n",
       "      dtype='object')"
      ]
     },
     "execution_count": 4,
     "metadata": {},
     "output_type": "execute_result"
    }
   ],
   "source": [
    "df1.columns"
   ]
  },
  {
   "cell_type": "code",
   "execution_count": 5,
   "id": "03e773d2",
   "metadata": {},
   "outputs": [
    {
     "data": {
      "text/plain": [
       "(76038, 5)"
      ]
     },
     "execution_count": 5,
     "metadata": {},
     "output_type": "execute_result"
    }
   ],
   "source": [
    "df2 = df1.drop(['type','location','age','availability'],axis='columns')\n",
    "df2.shape"
   ]
  },
  {
   "cell_type": "code",
   "execution_count": 6,
   "id": "639c8845",
   "metadata": {},
   "outputs": [
    {
     "data": {
      "text/html": [
       "<div>\n",
       "<style scoped>\n",
       "    .dataframe tbody tr th:only-of-type {\n",
       "        vertical-align: middle;\n",
       "    }\n",
       "\n",
       "    .dataframe tbody tr th {\n",
       "        vertical-align: top;\n",
       "    }\n",
       "\n",
       "    .dataframe thead th {\n",
       "        text-align: right;\n",
       "    }\n",
       "</style>\n",
       "<table border=\"1\" class=\"dataframe\">\n",
       "  <thead>\n",
       "    <tr style=\"text-align: right;\">\n",
       "      <th></th>\n",
       "      <th>size</th>\n",
       "      <th>total_sqft</th>\n",
       "      <th>price</th>\n",
       "      <th>price_unit</th>\n",
       "      <th>region</th>\n",
       "    </tr>\n",
       "  </thead>\n",
       "  <tbody>\n",
       "    <tr>\n",
       "      <th>0</th>\n",
       "      <td>3</td>\n",
       "      <td>685</td>\n",
       "      <td>2.50</td>\n",
       "      <td>Cr</td>\n",
       "      <td>Andheri West</td>\n",
       "    </tr>\n",
       "    <tr>\n",
       "      <th>1</th>\n",
       "      <td>2</td>\n",
       "      <td>640</td>\n",
       "      <td>52.51</td>\n",
       "      <td>L</td>\n",
       "      <td>Naigaon East</td>\n",
       "    </tr>\n",
       "    <tr>\n",
       "      <th>2</th>\n",
       "      <td>2</td>\n",
       "      <td>610</td>\n",
       "      <td>1.73</td>\n",
       "      <td>Cr</td>\n",
       "      <td>Borivali West</td>\n",
       "    </tr>\n",
       "    <tr>\n",
       "      <th>3</th>\n",
       "      <td>2</td>\n",
       "      <td>876</td>\n",
       "      <td>59.98</td>\n",
       "      <td>L</td>\n",
       "      <td>Panvel</td>\n",
       "    </tr>\n",
       "    <tr>\n",
       "      <th>4</th>\n",
       "      <td>2</td>\n",
       "      <td>659</td>\n",
       "      <td>94.11</td>\n",
       "      <td>L</td>\n",
       "      <td>Mira Road East</td>\n",
       "    </tr>\n",
       "  </tbody>\n",
       "</table>\n",
       "</div>"
      ],
      "text/plain": [
       "   size  total_sqft  price price_unit          region\n",
       "0     3         685   2.50         Cr    Andheri West\n",
       "1     2         640  52.51          L    Naigaon East\n",
       "2     2         610   1.73         Cr   Borivali West\n",
       "3     2         876  59.98          L          Panvel\n",
       "4     2         659  94.11          L  Mira Road East"
      ]
     },
     "execution_count": 6,
     "metadata": {},
     "output_type": "execute_result"
    }
   ],
   "source": [
    "df2.head()"
   ]
  },
  {
   "cell_type": "code",
   "execution_count": 7,
   "id": "5296fcb8",
   "metadata": {},
   "outputs": [
    {
     "data": {
      "text/plain": [
       "array(['Cr', 'L'], dtype=object)"
      ]
     },
     "execution_count": 7,
     "metadata": {},
     "output_type": "execute_result"
    }
   ],
   "source": [
    "df2['price_unit'].unique()"
   ]
  },
  {
   "cell_type": "code",
   "execution_count": 8,
   "id": "2533fcab",
   "metadata": {},
   "outputs": [
    {
     "data": {
      "text/plain": [
       "Cr    40981\n",
       "L     35057\n",
       "Name: price_unit, dtype: int64"
      ]
     },
     "execution_count": 8,
     "metadata": {},
     "output_type": "execute_result"
    }
   ],
   "source": [
    "df2['price_unit'].value_counts()"
   ]
  },
  {
   "cell_type": "code",
   "execution_count": 9,
   "id": "2ad670f8",
   "metadata": {},
   "outputs": [],
   "source": [
    "df2.drop(df2.index[(df2[\"price_unit\"] == \"L\")],axis=0,inplace=True)"
   ]
  },
  {
   "cell_type": "code",
   "execution_count": 10,
   "id": "cb95691b",
   "metadata": {},
   "outputs": [
    {
     "data": {
      "text/html": [
       "<div>\n",
       "<style scoped>\n",
       "    .dataframe tbody tr th:only-of-type {\n",
       "        vertical-align: middle;\n",
       "    }\n",
       "\n",
       "    .dataframe tbody tr th {\n",
       "        vertical-align: top;\n",
       "    }\n",
       "\n",
       "    .dataframe thead th {\n",
       "        text-align: right;\n",
       "    }\n",
       "</style>\n",
       "<table border=\"1\" class=\"dataframe\">\n",
       "  <thead>\n",
       "    <tr style=\"text-align: right;\">\n",
       "      <th></th>\n",
       "      <th>size</th>\n",
       "      <th>total_sqft</th>\n",
       "      <th>price</th>\n",
       "      <th>price_unit</th>\n",
       "      <th>region</th>\n",
       "    </tr>\n",
       "  </thead>\n",
       "  <tbody>\n",
       "    <tr>\n",
       "      <th>0</th>\n",
       "      <td>3</td>\n",
       "      <td>685</td>\n",
       "      <td>2.50</td>\n",
       "      <td>Cr</td>\n",
       "      <td>Andheri West</td>\n",
       "    </tr>\n",
       "    <tr>\n",
       "      <th>2</th>\n",
       "      <td>2</td>\n",
       "      <td>610</td>\n",
       "      <td>1.73</td>\n",
       "      <td>Cr</td>\n",
       "      <td>Borivali West</td>\n",
       "    </tr>\n",
       "    <tr>\n",
       "      <th>5</th>\n",
       "      <td>2</td>\n",
       "      <td>826</td>\n",
       "      <td>3.30</td>\n",
       "      <td>Cr</td>\n",
       "      <td>Parel</td>\n",
       "    </tr>\n",
       "    <tr>\n",
       "      <th>6</th>\n",
       "      <td>5</td>\n",
       "      <td>2921</td>\n",
       "      <td>1.99</td>\n",
       "      <td>Cr</td>\n",
       "      <td>Boisar</td>\n",
       "    </tr>\n",
       "    <tr>\n",
       "      <th>7</th>\n",
       "      <td>3</td>\n",
       "      <td>778</td>\n",
       "      <td>2.89</td>\n",
       "      <td>Cr</td>\n",
       "      <td>Santacruz East</td>\n",
       "    </tr>\n",
       "    <tr>\n",
       "      <th>...</th>\n",
       "      <td>...</td>\n",
       "      <td>...</td>\n",
       "      <td>...</td>\n",
       "      <td>...</td>\n",
       "      <td>...</td>\n",
       "    </tr>\n",
       "    <tr>\n",
       "      <th>76033</th>\n",
       "      <td>3</td>\n",
       "      <td>1527</td>\n",
       "      <td>7.00</td>\n",
       "      <td>Cr</td>\n",
       "      <td>Juhu</td>\n",
       "    </tr>\n",
       "    <tr>\n",
       "      <th>76034</th>\n",
       "      <td>5</td>\n",
       "      <td>3049</td>\n",
       "      <td>12.00</td>\n",
       "      <td>Cr</td>\n",
       "      <td>Juhu</td>\n",
       "    </tr>\n",
       "    <tr>\n",
       "      <th>76035</th>\n",
       "      <td>4</td>\n",
       "      <td>3313</td>\n",
       "      <td>10.00</td>\n",
       "      <td>Cr</td>\n",
       "      <td>Napeansea Road</td>\n",
       "    </tr>\n",
       "    <tr>\n",
       "      <th>76036</th>\n",
       "      <td>2</td>\n",
       "      <td>1305</td>\n",
       "      <td>4.25</td>\n",
       "      <td>Cr</td>\n",
       "      <td>Bandra East</td>\n",
       "    </tr>\n",
       "    <tr>\n",
       "      <th>76037</th>\n",
       "      <td>5</td>\n",
       "      <td>5200</td>\n",
       "      <td>25.00</td>\n",
       "      <td>Cr</td>\n",
       "      <td>Bandra Kurla Complex</td>\n",
       "    </tr>\n",
       "  </tbody>\n",
       "</table>\n",
       "<p>40981 rows × 5 columns</p>\n",
       "</div>"
      ],
      "text/plain": [
       "       size  total_sqft  price price_unit                region\n",
       "0         3         685   2.50         Cr          Andheri West\n",
       "2         2         610   1.73         Cr         Borivali West\n",
       "5         2         826   3.30         Cr                 Parel\n",
       "6         5        2921   1.99         Cr                Boisar\n",
       "7         3         778   2.89         Cr        Santacruz East\n",
       "...     ...         ...    ...        ...                   ...\n",
       "76033     3        1527   7.00         Cr                  Juhu\n",
       "76034     5        3049  12.00         Cr                  Juhu\n",
       "76035     4        3313  10.00         Cr        Napeansea Road\n",
       "76036     2        1305   4.25         Cr           Bandra East\n",
       "76037     5        5200  25.00         Cr  Bandra Kurla Complex\n",
       "\n",
       "[40981 rows x 5 columns]"
      ]
     },
     "execution_count": 10,
     "metadata": {},
     "output_type": "execute_result"
    }
   ],
   "source": [
    "df2"
   ]
  },
  {
   "cell_type": "code",
   "execution_count": 11,
   "id": "ee5d9b69",
   "metadata": {},
   "outputs": [
    {
     "data": {
      "text/plain": [
       "(40981, 5)"
      ]
     },
     "execution_count": 11,
     "metadata": {},
     "output_type": "execute_result"
    }
   ],
   "source": [
    "df2.shape"
   ]
  },
  {
   "cell_type": "code",
   "execution_count": 12,
   "id": "eafee9ed",
   "metadata": {},
   "outputs": [
    {
     "data": {
      "text/plain": [
       "size          0\n",
       "total_sqft    0\n",
       "price         0\n",
       "price_unit    0\n",
       "region        0\n",
       "dtype: int64"
      ]
     },
     "execution_count": 12,
     "metadata": {},
     "output_type": "execute_result"
    }
   ],
   "source": [
    "df2.isnull().sum()"
   ]
  },
  {
   "cell_type": "code",
   "execution_count": 13,
   "id": "493685ae",
   "metadata": {},
   "outputs": [],
   "source": [
    "df2.drop(\"price_unit\",axis=1,inplace=True)"
   ]
  },
  {
   "cell_type": "code",
   "execution_count": 14,
   "id": "5e5a7d0b",
   "metadata": {},
   "outputs": [
    {
     "data": {
      "text/html": [
       "<div>\n",
       "<style scoped>\n",
       "    .dataframe tbody tr th:only-of-type {\n",
       "        vertical-align: middle;\n",
       "    }\n",
       "\n",
       "    .dataframe tbody tr th {\n",
       "        vertical-align: top;\n",
       "    }\n",
       "\n",
       "    .dataframe thead th {\n",
       "        text-align: right;\n",
       "    }\n",
       "</style>\n",
       "<table border=\"1\" class=\"dataframe\">\n",
       "  <thead>\n",
       "    <tr style=\"text-align: right;\">\n",
       "      <th></th>\n",
       "      <th>size</th>\n",
       "      <th>total_sqft</th>\n",
       "      <th>price</th>\n",
       "      <th>region</th>\n",
       "    </tr>\n",
       "  </thead>\n",
       "  <tbody>\n",
       "    <tr>\n",
       "      <th>0</th>\n",
       "      <td>3</td>\n",
       "      <td>685</td>\n",
       "      <td>2.50</td>\n",
       "      <td>Andheri West</td>\n",
       "    </tr>\n",
       "    <tr>\n",
       "      <th>2</th>\n",
       "      <td>2</td>\n",
       "      <td>610</td>\n",
       "      <td>1.73</td>\n",
       "      <td>Borivali West</td>\n",
       "    </tr>\n",
       "    <tr>\n",
       "      <th>5</th>\n",
       "      <td>2</td>\n",
       "      <td>826</td>\n",
       "      <td>3.30</td>\n",
       "      <td>Parel</td>\n",
       "    </tr>\n",
       "    <tr>\n",
       "      <th>6</th>\n",
       "      <td>5</td>\n",
       "      <td>2921</td>\n",
       "      <td>1.99</td>\n",
       "      <td>Boisar</td>\n",
       "    </tr>\n",
       "    <tr>\n",
       "      <th>7</th>\n",
       "      <td>3</td>\n",
       "      <td>778</td>\n",
       "      <td>2.89</td>\n",
       "      <td>Santacruz East</td>\n",
       "    </tr>\n",
       "  </tbody>\n",
       "</table>\n",
       "</div>"
      ],
      "text/plain": [
       "   size  total_sqft  price          region\n",
       "0     3         685   2.50    Andheri West\n",
       "2     2         610   1.73   Borivali West\n",
       "5     2         826   3.30           Parel\n",
       "6     5        2921   1.99          Boisar\n",
       "7     3         778   2.89  Santacruz East"
      ]
     },
     "execution_count": 14,
     "metadata": {},
     "output_type": "execute_result"
    }
   ],
   "source": [
    "df2.head()"
   ]
  },
  {
   "cell_type": "code",
   "execution_count": 15,
   "id": "c921bddf",
   "metadata": {},
   "outputs": [
    {
     "data": {
      "text/plain": [
       "array([ 685,  610,  826, ..., 1974, 1634, 3049], dtype=int64)"
      ]
     },
     "execution_count": 15,
     "metadata": {},
     "output_type": "execute_result"
    }
   ],
   "source": [
    "df2.total_sqft.unique()"
   ]
  },
  {
   "cell_type": "code",
   "execution_count": 16,
   "id": "bedf48db",
   "metadata": {},
   "outputs": [
    {
     "data": {
      "text/html": [
       "<div>\n",
       "<style scoped>\n",
       "    .dataframe tbody tr th:only-of-type {\n",
       "        vertical-align: middle;\n",
       "    }\n",
       "\n",
       "    .dataframe tbody tr th {\n",
       "        vertical-align: top;\n",
       "    }\n",
       "\n",
       "    .dataframe thead th {\n",
       "        text-align: right;\n",
       "    }\n",
       "</style>\n",
       "<table border=\"1\" class=\"dataframe\">\n",
       "  <thead>\n",
       "    <tr style=\"text-align: right;\">\n",
       "      <th></th>\n",
       "      <th>size</th>\n",
       "      <th>total_sqft</th>\n",
       "      <th>price</th>\n",
       "      <th>region</th>\n",
       "      <th>price_per_sqft</th>\n",
       "    </tr>\n",
       "  </thead>\n",
       "  <tbody>\n",
       "    <tr>\n",
       "      <th>0</th>\n",
       "      <td>3</td>\n",
       "      <td>685</td>\n",
       "      <td>2.50</td>\n",
       "      <td>Andheri West</td>\n",
       "      <td>3649.635036</td>\n",
       "    </tr>\n",
       "    <tr>\n",
       "      <th>2</th>\n",
       "      <td>2</td>\n",
       "      <td>610</td>\n",
       "      <td>1.73</td>\n",
       "      <td>Borivali West</td>\n",
       "      <td>2836.065574</td>\n",
       "    </tr>\n",
       "    <tr>\n",
       "      <th>5</th>\n",
       "      <td>2</td>\n",
       "      <td>826</td>\n",
       "      <td>3.30</td>\n",
       "      <td>Parel</td>\n",
       "      <td>3995.157385</td>\n",
       "    </tr>\n",
       "    <tr>\n",
       "      <th>6</th>\n",
       "      <td>5</td>\n",
       "      <td>2921</td>\n",
       "      <td>1.99</td>\n",
       "      <td>Boisar</td>\n",
       "      <td>681.273536</td>\n",
       "    </tr>\n",
       "    <tr>\n",
       "      <th>7</th>\n",
       "      <td>3</td>\n",
       "      <td>778</td>\n",
       "      <td>2.89</td>\n",
       "      <td>Santacruz East</td>\n",
       "      <td>3714.652956</td>\n",
       "    </tr>\n",
       "  </tbody>\n",
       "</table>\n",
       "</div>"
      ],
      "text/plain": [
       "   size  total_sqft  price          region  price_per_sqft\n",
       "0     3         685   2.50    Andheri West     3649.635036\n",
       "2     2         610   1.73   Borivali West     2836.065574\n",
       "5     2         826   3.30           Parel     3995.157385\n",
       "6     5        2921   1.99          Boisar      681.273536\n",
       "7     3         778   2.89  Santacruz East     3714.652956"
      ]
     },
     "execution_count": 16,
     "metadata": {},
     "output_type": "execute_result"
    }
   ],
   "source": [
    "df3 = df2.copy()\n",
    "df3['price_per_sqft'] = df3['price']*1000000/df3['total_sqft']\n",
    "df3.head()"
   ]
  },
  {
   "cell_type": "code",
   "execution_count": 17,
   "id": "90084ac8",
   "metadata": {},
   "outputs": [
    {
     "data": {
      "text/plain": [
       "count    40981.000000\n",
       "mean      2011.315496\n",
       "std        954.241254\n",
       "min        214.285714\n",
       "25%       1358.974359\n",
       "50%       1814.814815\n",
       "75%       2400.000000\n",
       "max      18230.769231\n",
       "Name: price_per_sqft, dtype: float64"
      ]
     },
     "execution_count": 17,
     "metadata": {},
     "output_type": "execute_result"
    }
   ],
   "source": [
    "df3_stats = df3['price_per_sqft'].describe()\n",
    "df3_stats"
   ]
  },
  {
   "cell_type": "code",
   "execution_count": 18,
   "id": "872a8fae",
   "metadata": {},
   "outputs": [
    {
     "data": {
      "text/plain": [
       "151"
      ]
     },
     "execution_count": 18,
     "metadata": {},
     "output_type": "execute_result"
    }
   ],
   "source": [
    "len(df3.region.unique())"
   ]
  },
  {
   "cell_type": "code",
   "execution_count": 19,
   "id": "ed4aa8fd",
   "metadata": {},
   "outputs": [
    {
     "data": {
      "text/plain": [
       "array(['Andheri West', 'Borivali West', 'Parel', 'Boisar',\n",
       "       'Santacruz East', 'Fort', 'Chembur', 'Jogeshwari West', 'Powai',\n",
       "       'Ghansoli', 'Thane West', 'Vikhroli', 'Airoli', 'Borivali East',\n",
       "       'Kharghar', 'Panvel', 'Jogeshwari East', 'Mulund West',\n",
       "       'Goregaon West', 'Ghatkopar East', 'Ulwe', 'Mira Road East',\n",
       "       'Vasai', 'Kalamboli', 'Kandivali East', 'Kurla', 'Andheri East',\n",
       "       'Vashi', 'Malad West', 'Dadar West', 'Kandivali West', 'Mahim',\n",
       "       'Nala Sopara', 'Bandra West', 'Mulund East', 'Ghatkopar West',\n",
       "       'Agripada', 'Owale', 'Ville Parle East', 'Santacruz West', 'Nerul',\n",
       "       'Kanjurmarg', 'Khar', 'Sewri', 'Prabhadevi', 'Matunga',\n",
       "       'Lower Parel', 'Koper Khairane', 'Napeansea Road', 'Bhandup West',\n",
       "       'Dahisar', 'Wadala', 'Sion', 'Bhayandar East', 'Cuffe Parade',\n",
       "       'Girgaon', 'Byculla', 'Bhiwandi', 'Tardeo', 'Malad East', 'Colaba',\n",
       "       'Goregaon East', 'Dombivali', 'Thane East', 'Kalyan West',\n",
       "       'Kamothe', 'Deonar', 'Nahur East', 'Sector 21 Kamothe', 'Sanpada',\n",
       "       'Seawoods', 'Juinagar', 'Worli', 'Panch Pakhdi',\n",
       "       'Hiranandani Estates', 'Belapur', 'Bandra East', 'Virar',\n",
       "       'Anjurdive', 'Mahalaxmi', 'Dadar East', 'Shahapur', 'Dronagiri',\n",
       "       'Kanjurmarg East', 'Taloja', 'Juhu', 'Ville Parle West', 'Mazgaon',\n",
       "       'Khar West', 'Rabale', 'Karanjade', 'Sector 21 Nerul',\n",
       "       'Shil Phata', 'Bandra Kurla Complex', 'Mazagaon', 'Ambernath West',\n",
       "       'Mumbai Central', 'Sector 11 Koparkhairane',\n",
       "       'Sector-14 Koparkhairane', 'Bhayandar West', 'Bhandup East',\n",
       "       'Vikroli East', 'Govandi', 'vile parle west', 'MATUNGA WEST',\n",
       "       'Kurla East', 'Pestom Sagar Colony', 'Sector 12 Kharghar', 'Neral',\n",
       "       'Kalyan East', 'Khopoli', 'Police Colony', 'Dahisar West',\n",
       "       'Marine Lines', 'Sector 19 Kharghar', 'Hindu Colony',\n",
       "       'Dahisar East', 'Sector 9 Vashi', 'Khardi', 'Babulnath Road',\n",
       "       'Sector 21 Kharghar', 'Ashok nagar', 'Antop Hill', 'Peddar Road',\n",
       "       'Kamathipura', 'Ambernath East', 'Patlipada', 'Shelu',\n",
       "       'Kurla West', 'Naupada', 'Sector 7 Kharghar', 'Ulhasnagar',\n",
       "       'Badlapur West', 'Dombivali East', 'Borivali', 'Bandra',\n",
       "       'kandivali', 'Mahavir Nagar', 'Churchgate', 'Pali Hill', 'Manpada',\n",
       "       'Uttan', 'Mahim West', 'Chandivali', 'Tilak Nagar', 'Chembur East',\n",
       "       'Malabar Hill', 'sector', 'Ghodbunder Road', 'Mulund',\n",
       "       'Juhu Scheme'], dtype=object)"
      ]
     },
     "execution_count": 19,
     "metadata": {},
     "output_type": "execute_result"
    }
   ],
   "source": [
    "df3.region.unique()"
   ]
  },
  {
   "cell_type": "code",
   "execution_count": 20,
   "id": "f9b3d4ce",
   "metadata": {},
   "outputs": [
    {
     "data": {
      "text/html": [
       "<div>\n",
       "<style scoped>\n",
       "    .dataframe tbody tr th:only-of-type {\n",
       "        vertical-align: middle;\n",
       "    }\n",
       "\n",
       "    .dataframe tbody tr th {\n",
       "        vertical-align: top;\n",
       "    }\n",
       "\n",
       "    .dataframe thead th {\n",
       "        text-align: right;\n",
       "    }\n",
       "</style>\n",
       "<table border=\"1\" class=\"dataframe\">\n",
       "  <thead>\n",
       "    <tr style=\"text-align: right;\">\n",
       "      <th></th>\n",
       "      <th>size</th>\n",
       "      <th>total_sqft</th>\n",
       "      <th>price</th>\n",
       "      <th>location</th>\n",
       "      <th>price_per_sqft</th>\n",
       "    </tr>\n",
       "  </thead>\n",
       "  <tbody>\n",
       "    <tr>\n",
       "      <th>0</th>\n",
       "      <td>3</td>\n",
       "      <td>685</td>\n",
       "      <td>2.50</td>\n",
       "      <td>Andheri West</td>\n",
       "      <td>3649.635036</td>\n",
       "    </tr>\n",
       "    <tr>\n",
       "      <th>2</th>\n",
       "      <td>2</td>\n",
       "      <td>610</td>\n",
       "      <td>1.73</td>\n",
       "      <td>Borivali West</td>\n",
       "      <td>2836.065574</td>\n",
       "    </tr>\n",
       "    <tr>\n",
       "      <th>5</th>\n",
       "      <td>2</td>\n",
       "      <td>826</td>\n",
       "      <td>3.30</td>\n",
       "      <td>Parel</td>\n",
       "      <td>3995.157385</td>\n",
       "    </tr>\n",
       "    <tr>\n",
       "      <th>6</th>\n",
       "      <td>5</td>\n",
       "      <td>2921</td>\n",
       "      <td>1.99</td>\n",
       "      <td>Boisar</td>\n",
       "      <td>681.273536</td>\n",
       "    </tr>\n",
       "    <tr>\n",
       "      <th>7</th>\n",
       "      <td>3</td>\n",
       "      <td>778</td>\n",
       "      <td>2.89</td>\n",
       "      <td>Santacruz East</td>\n",
       "      <td>3714.652956</td>\n",
       "    </tr>\n",
       "    <tr>\n",
       "      <th>...</th>\n",
       "      <td>...</td>\n",
       "      <td>...</td>\n",
       "      <td>...</td>\n",
       "      <td>...</td>\n",
       "      <td>...</td>\n",
       "    </tr>\n",
       "    <tr>\n",
       "      <th>76033</th>\n",
       "      <td>3</td>\n",
       "      <td>1527</td>\n",
       "      <td>7.00</td>\n",
       "      <td>Juhu</td>\n",
       "      <td>4584.151932</td>\n",
       "    </tr>\n",
       "    <tr>\n",
       "      <th>76034</th>\n",
       "      <td>5</td>\n",
       "      <td>3049</td>\n",
       "      <td>12.00</td>\n",
       "      <td>Juhu</td>\n",
       "      <td>3935.716628</td>\n",
       "    </tr>\n",
       "    <tr>\n",
       "      <th>76035</th>\n",
       "      <td>4</td>\n",
       "      <td>3313</td>\n",
       "      <td>10.00</td>\n",
       "      <td>Napeansea Road</td>\n",
       "      <td>3018.412315</td>\n",
       "    </tr>\n",
       "    <tr>\n",
       "      <th>76036</th>\n",
       "      <td>2</td>\n",
       "      <td>1305</td>\n",
       "      <td>4.25</td>\n",
       "      <td>Bandra East</td>\n",
       "      <td>3256.704981</td>\n",
       "    </tr>\n",
       "    <tr>\n",
       "      <th>76037</th>\n",
       "      <td>5</td>\n",
       "      <td>5200</td>\n",
       "      <td>25.00</td>\n",
       "      <td>Bandra Kurla Complex</td>\n",
       "      <td>4807.692308</td>\n",
       "    </tr>\n",
       "  </tbody>\n",
       "</table>\n",
       "<p>40981 rows × 5 columns</p>\n",
       "</div>"
      ],
      "text/plain": [
       "       size  total_sqft  price              location  price_per_sqft\n",
       "0         3         685   2.50          Andheri West     3649.635036\n",
       "2         2         610   1.73         Borivali West     2836.065574\n",
       "5         2         826   3.30                 Parel     3995.157385\n",
       "6         5        2921   1.99                Boisar      681.273536\n",
       "7         3         778   2.89        Santacruz East     3714.652956\n",
       "...     ...         ...    ...                   ...             ...\n",
       "76033     3        1527   7.00                  Juhu     4584.151932\n",
       "76034     5        3049  12.00                  Juhu     3935.716628\n",
       "76035     4        3313  10.00        Napeansea Road     3018.412315\n",
       "76036     2        1305   4.25           Bandra East     3256.704981\n",
       "76037     5        5200  25.00  Bandra Kurla Complex     4807.692308\n",
       "\n",
       "[40981 rows x 5 columns]"
      ]
     },
     "execution_count": 20,
     "metadata": {},
     "output_type": "execute_result"
    }
   ],
   "source": [
    "df3.rename(columns={\"region\": \"location\"}, inplace=True)\n",
    "df3"
   ]
  },
  {
   "cell_type": "code",
   "execution_count": 21,
   "id": "240314fc",
   "metadata": {},
   "outputs": [
    {
     "data": {
      "text/plain": [
       "Thane West        11071\n",
       "Kandivali East     1964\n",
       "Mira Road East     1750\n",
       "Kharghar           1602\n",
       "Andheri West       1487\n",
       "                  ...  \n",
       "Churchgate            1\n",
       "Kamathipura           1\n",
       "Dombivali East        1\n",
       "sector                1\n",
       "Bandra                1\n",
       "Name: location, Length: 151, dtype: int64"
      ]
     },
     "execution_count": 21,
     "metadata": {},
     "output_type": "execute_result"
    }
   ],
   "source": [
    "df3.location = df3.location.apply(lambda x: x.strip())\n",
    "location_stats = df3['location'].value_counts(ascending=False)\n",
    "location_stats"
   ]
  },
  {
   "cell_type": "code",
   "execution_count": 22,
   "id": "1b3f281f",
   "metadata": {},
   "outputs": [
    {
     "data": {
      "text/html": [
       "<div>\n",
       "<style scoped>\n",
       "    .dataframe tbody tr th:only-of-type {\n",
       "        vertical-align: middle;\n",
       "    }\n",
       "\n",
       "    .dataframe tbody tr th {\n",
       "        vertical-align: top;\n",
       "    }\n",
       "\n",
       "    .dataframe thead th {\n",
       "        text-align: right;\n",
       "    }\n",
       "</style>\n",
       "<table border=\"1\" class=\"dataframe\">\n",
       "  <thead>\n",
       "    <tr style=\"text-align: right;\">\n",
       "      <th></th>\n",
       "      <th>size</th>\n",
       "      <th>total_sqft</th>\n",
       "      <th>price</th>\n",
       "      <th>location</th>\n",
       "      <th>price_per_sqft</th>\n",
       "    </tr>\n",
       "  </thead>\n",
       "  <tbody>\n",
       "    <tr>\n",
       "      <th>0</th>\n",
       "      <td>3</td>\n",
       "      <td>685</td>\n",
       "      <td>2.50</td>\n",
       "      <td>Andheri West</td>\n",
       "      <td>3649.635036</td>\n",
       "    </tr>\n",
       "    <tr>\n",
       "      <th>2</th>\n",
       "      <td>2</td>\n",
       "      <td>610</td>\n",
       "      <td>1.73</td>\n",
       "      <td>Borivali West</td>\n",
       "      <td>2836.065574</td>\n",
       "    </tr>\n",
       "    <tr>\n",
       "      <th>5</th>\n",
       "      <td>2</td>\n",
       "      <td>826</td>\n",
       "      <td>3.30</td>\n",
       "      <td>Parel</td>\n",
       "      <td>3995.157385</td>\n",
       "    </tr>\n",
       "    <tr>\n",
       "      <th>6</th>\n",
       "      <td>5</td>\n",
       "      <td>2921</td>\n",
       "      <td>1.99</td>\n",
       "      <td>Boisar</td>\n",
       "      <td>681.273536</td>\n",
       "    </tr>\n",
       "    <tr>\n",
       "      <th>7</th>\n",
       "      <td>3</td>\n",
       "      <td>778</td>\n",
       "      <td>2.89</td>\n",
       "      <td>Santacruz East</td>\n",
       "      <td>3714.652956</td>\n",
       "    </tr>\n",
       "  </tbody>\n",
       "</table>\n",
       "</div>"
      ],
      "text/plain": [
       "   size  total_sqft  price        location  price_per_sqft\n",
       "0     3         685   2.50    Andheri West     3649.635036\n",
       "2     2         610   1.73   Borivali West     2836.065574\n",
       "5     2         826   3.30           Parel     3995.157385\n",
       "6     5        2921   1.99          Boisar      681.273536\n",
       "7     3         778   2.89  Santacruz East     3714.652956"
      ]
     },
     "execution_count": 22,
     "metadata": {},
     "output_type": "execute_result"
    }
   ],
   "source": [
    "df3[df3.total_sqft/df3.size<300].head()"
   ]
  },
  {
   "cell_type": "code",
   "execution_count": 23,
   "id": "a78cdc30",
   "metadata": {},
   "outputs": [
    {
     "data": {
      "text/plain": [
       "(40981, 5)"
      ]
     },
     "execution_count": 23,
     "metadata": {},
     "output_type": "execute_result"
    }
   ],
   "source": [
    "df3.shape"
   ]
  },
  {
   "cell_type": "code",
   "execution_count": 24,
   "id": "46a1194f",
   "metadata": {},
   "outputs": [
    {
     "data": {
      "text/html": [
       "<div>\n",
       "<style scoped>\n",
       "    .dataframe tbody tr th:only-of-type {\n",
       "        vertical-align: middle;\n",
       "    }\n",
       "\n",
       "    .dataframe tbody tr th {\n",
       "        vertical-align: top;\n",
       "    }\n",
       "\n",
       "    .dataframe thead th {\n",
       "        text-align: right;\n",
       "    }\n",
       "</style>\n",
       "<table border=\"1\" class=\"dataframe\">\n",
       "  <thead>\n",
       "    <tr style=\"text-align: right;\">\n",
       "      <th></th>\n",
       "      <th>bhk</th>\n",
       "      <th>total_sqft</th>\n",
       "      <th>price</th>\n",
       "      <th>location</th>\n",
       "      <th>price_per_sqft</th>\n",
       "    </tr>\n",
       "  </thead>\n",
       "  <tbody>\n",
       "    <tr>\n",
       "      <th>0</th>\n",
       "      <td>3</td>\n",
       "      <td>685</td>\n",
       "      <td>2.50</td>\n",
       "      <td>Andheri West</td>\n",
       "      <td>3649.635036</td>\n",
       "    </tr>\n",
       "    <tr>\n",
       "      <th>2</th>\n",
       "      <td>2</td>\n",
       "      <td>610</td>\n",
       "      <td>1.73</td>\n",
       "      <td>Borivali West</td>\n",
       "      <td>2836.065574</td>\n",
       "    </tr>\n",
       "    <tr>\n",
       "      <th>5</th>\n",
       "      <td>2</td>\n",
       "      <td>826</td>\n",
       "      <td>3.30</td>\n",
       "      <td>Parel</td>\n",
       "      <td>3995.157385</td>\n",
       "    </tr>\n",
       "    <tr>\n",
       "      <th>6</th>\n",
       "      <td>5</td>\n",
       "      <td>2921</td>\n",
       "      <td>1.99</td>\n",
       "      <td>Boisar</td>\n",
       "      <td>681.273536</td>\n",
       "    </tr>\n",
       "    <tr>\n",
       "      <th>7</th>\n",
       "      <td>3</td>\n",
       "      <td>778</td>\n",
       "      <td>2.89</td>\n",
       "      <td>Santacruz East</td>\n",
       "      <td>3714.652956</td>\n",
       "    </tr>\n",
       "    <tr>\n",
       "      <th>...</th>\n",
       "      <td>...</td>\n",
       "      <td>...</td>\n",
       "      <td>...</td>\n",
       "      <td>...</td>\n",
       "      <td>...</td>\n",
       "    </tr>\n",
       "    <tr>\n",
       "      <th>76033</th>\n",
       "      <td>3</td>\n",
       "      <td>1527</td>\n",
       "      <td>7.00</td>\n",
       "      <td>Juhu</td>\n",
       "      <td>4584.151932</td>\n",
       "    </tr>\n",
       "    <tr>\n",
       "      <th>76034</th>\n",
       "      <td>5</td>\n",
       "      <td>3049</td>\n",
       "      <td>12.00</td>\n",
       "      <td>Juhu</td>\n",
       "      <td>3935.716628</td>\n",
       "    </tr>\n",
       "    <tr>\n",
       "      <th>76035</th>\n",
       "      <td>4</td>\n",
       "      <td>3313</td>\n",
       "      <td>10.00</td>\n",
       "      <td>Napeansea Road</td>\n",
       "      <td>3018.412315</td>\n",
       "    </tr>\n",
       "    <tr>\n",
       "      <th>76036</th>\n",
       "      <td>2</td>\n",
       "      <td>1305</td>\n",
       "      <td>4.25</td>\n",
       "      <td>Bandra East</td>\n",
       "      <td>3256.704981</td>\n",
       "    </tr>\n",
       "    <tr>\n",
       "      <th>76037</th>\n",
       "      <td>5</td>\n",
       "      <td>5200</td>\n",
       "      <td>25.00</td>\n",
       "      <td>Bandra Kurla Complex</td>\n",
       "      <td>4807.692308</td>\n",
       "    </tr>\n",
       "  </tbody>\n",
       "</table>\n",
       "<p>40981 rows × 5 columns</p>\n",
       "</div>"
      ],
      "text/plain": [
       "       bhk  total_sqft  price              location  price_per_sqft\n",
       "0        3         685   2.50          Andheri West     3649.635036\n",
       "2        2         610   1.73         Borivali West     2836.065574\n",
       "5        2         826   3.30                 Parel     3995.157385\n",
       "6        5        2921   1.99                Boisar      681.273536\n",
       "7        3         778   2.89        Santacruz East     3714.652956\n",
       "...    ...         ...    ...                   ...             ...\n",
       "76033    3        1527   7.00                  Juhu     4584.151932\n",
       "76034    5        3049  12.00                  Juhu     3935.716628\n",
       "76035    4        3313  10.00        Napeansea Road     3018.412315\n",
       "76036    2        1305   4.25           Bandra East     3256.704981\n",
       "76037    5        5200  25.00  Bandra Kurla Complex     4807.692308\n",
       "\n",
       "[40981 rows x 5 columns]"
      ]
     },
     "execution_count": 24,
     "metadata": {},
     "output_type": "execute_result"
    }
   ],
   "source": [
    "df3.rename(columns={\"size\": \"bhk\"}, inplace=True)\n",
    "df3"
   ]
  },
  {
   "cell_type": "code",
   "execution_count": 25,
   "id": "879a43fa",
   "metadata": {},
   "outputs": [
    {
     "data": {
      "text/plain": [
       "(39022, 5)"
      ]
     },
     "execution_count": 25,
     "metadata": {},
     "output_type": "execute_result"
    }
   ],
   "source": [
    "df3 = df3[~(df3.total_sqft/df3.bhk<300)]\n",
    "df3.shape"
   ]
  },
  {
   "cell_type": "code",
   "execution_count": 26,
   "id": "5d45c21f",
   "metadata": {},
   "outputs": [
    {
     "data": {
      "text/plain": [
       "count    39022.000000\n",
       "mean      1989.555987\n",
       "std        963.041648\n",
       "min        214.285714\n",
       "25%       1335.326697\n",
       "50%       1776.886302\n",
       "75%       2366.666667\n",
       "max      18230.769231\n",
       "Name: price_per_sqft, dtype: float64"
      ]
     },
     "execution_count": 26,
     "metadata": {},
     "output_type": "execute_result"
    }
   ],
   "source": [
    "df3.price_per_sqft.describe()"
   ]
  },
  {
   "cell_type": "code",
   "execution_count": 27,
   "id": "e43242a8",
   "metadata": {},
   "outputs": [
    {
     "data": {
      "text/plain": [
       "(28540, 5)"
      ]
     },
     "execution_count": 27,
     "metadata": {},
     "output_type": "execute_result"
    }
   ],
   "source": [
    "def remove_pps_outliers(df):\n",
    "    df_out = pd.DataFrame()\n",
    "    for key, subdf in df.groupby('location'):\n",
    "        m = np.mean(subdf.price_per_sqft)\n",
    "        st = np.std(subdf.price_per_sqft)\n",
    "        reduced_df = subdf[(subdf.price_per_sqft>(m-st)) & (subdf.price_per_sqft<=(m+st))]\n",
    "        df_out = pd.concat([df_out,reduced_df],ignore_index=True)\n",
    "    return df_out\n",
    "df4 = remove_pps_outliers(df3)\n",
    "df4.shape"
   ]
  },
  {
   "cell_type": "code",
   "execution_count": 28,
   "id": "54d07fc6",
   "metadata": {},
   "outputs": [
    {
     "data": {
      "text/plain": [
       "(15846, 5)"
      ]
     },
     "execution_count": 28,
     "metadata": {},
     "output_type": "execute_result"
    }
   ],
   "source": [
    "def remove_bhk_outliers(df):\n",
    "    exclude_indices = np.array([])\n",
    "    for location, location_df in df.groupby('location'):\n",
    "        bhk_stats = {}\n",
    "        for bhk, bhk_df in location_df.groupby('bhk'):\n",
    "            bhk_stats[bhk] = {\n",
    "                'mean': np.mean(bhk_df.price_per_sqft),\n",
    "                'std': np.std(bhk_df.price_per_sqft),\n",
    "                'count': bhk_df.shape[0]\n",
    "            }\n",
    "        for bhk, bhk_df in location_df.groupby('bhk'):\n",
    "            stats = bhk_stats.get(bhk-1)\n",
    "            if stats and stats['count']>5:\n",
    "                exclude_indices = np.append(exclude_indices, bhk_df[bhk_df.price_per_sqft<(stats['mean'])].index.values)\n",
    "    return df.drop(exclude_indices,axis='index')\n",
    "df5 = remove_bhk_outliers(df4)\n",
    "df5.shape"
   ]
  },
  {
   "cell_type": "code",
   "execution_count": 29,
   "id": "de621e2b",
   "metadata": {},
   "outputs": [
    {
     "data": {
      "text/plain": [
       "Text(0, 0.5, 'Count')"
      ]
     },
     "execution_count": 29,
     "metadata": {},
     "output_type": "execute_result"
    },
    {
     "data": {
      "image/png": "[encoded data removed]",
      "text/plain": [
       "<Figure size 1440x720 with 1 Axes>"
      ]
     },
     "metadata": {
      "needs_background": "light"
     },
     "output_type": "display_data"
    }
   ],
   "source": [
    "import matplotlib\n",
    "matplotlib.rcParams[\"figure.figsize\"] = (20,10)\n",
    "plt.hist(df5.price_per_sqft,rwidth=0.8)\n",
    "plt.xlabel(\"Price Per Square Feet\")\n",
    "plt.ylabel(\"Count\")"
   ]
  },
  {
   "cell_type": "code",
   "execution_count": 30,
   "id": "15ba63bd",
   "metadata": {},
   "outputs": [
    {
     "data": {
      "text/html": [
       "<div>\n",
       "<style scoped>\n",
       "    .dataframe tbody tr th:only-of-type {\n",
       "        vertical-align: middle;\n",
       "    }\n",
       "\n",
       "    .dataframe tbody tr th {\n",
       "        vertical-align: top;\n",
       "    }\n",
       "\n",
       "    .dataframe thead th {\n",
       "        text-align: right;\n",
       "    }\n",
       "</style>\n",
       "<table border=\"1\" class=\"dataframe\">\n",
       "  <thead>\n",
       "    <tr style=\"text-align: right;\">\n",
       "      <th></th>\n",
       "      <th>bhk</th>\n",
       "      <th>total_sqft</th>\n",
       "      <th>price</th>\n",
       "      <th>location</th>\n",
       "    </tr>\n",
       "  </thead>\n",
       "  <tbody>\n",
       "    <tr>\n",
       "      <th>0</th>\n",
       "      <td>2</td>\n",
       "      <td>650</td>\n",
       "      <td>2.62</td>\n",
       "      <td>Agripada</td>\n",
       "    </tr>\n",
       "    <tr>\n",
       "      <th>1</th>\n",
       "      <td>1</td>\n",
       "      <td>803</td>\n",
       "      <td>2.25</td>\n",
       "      <td>Agripada</td>\n",
       "    </tr>\n",
       "    <tr>\n",
       "      <th>2</th>\n",
       "      <td>1</td>\n",
       "      <td>684</td>\n",
       "      <td>1.70</td>\n",
       "      <td>Agripada</td>\n",
       "    </tr>\n",
       "    <tr>\n",
       "      <th>3</th>\n",
       "      <td>1</td>\n",
       "      <td>545</td>\n",
       "      <td>1.60</td>\n",
       "      <td>Agripada</td>\n",
       "    </tr>\n",
       "    <tr>\n",
       "      <th>10</th>\n",
       "      <td>4</td>\n",
       "      <td>3454</td>\n",
       "      <td>12.50</td>\n",
       "      <td>Agripada</td>\n",
       "    </tr>\n",
       "  </tbody>\n",
       "</table>\n",
       "</div>"
      ],
      "text/plain": [
       "    bhk  total_sqft  price  location\n",
       "0     2         650   2.62  Agripada\n",
       "1     1         803   2.25  Agripada\n",
       "2     1         684   1.70  Agripada\n",
       "3     1         545   1.60  Agripada\n",
       "10    4        3454  12.50  Agripada"
      ]
     },
     "execution_count": 30,
     "metadata": {},
     "output_type": "execute_result"
    }
   ],
   "source": [
    "df5.drop(\"price_per_sqft\",axis=1,inplace=True)\n",
    "df5.head()"
   ]
  },
  {
   "cell_type": "code",
   "execution_count": 31,
   "id": "a4dbec71",
   "metadata": {},
   "outputs": [
    {
     "data": {
      "text/html": [
       "<div>\n",
       "<style scoped>\n",
       "    .dataframe tbody tr th:only-of-type {\n",
       "        vertical-align: middle;\n",
       "    }\n",
       "\n",
       "    .dataframe tbody tr th {\n",
       "        vertical-align: top;\n",
       "    }\n",
       "\n",
       "    .dataframe thead th {\n",
       "        text-align: right;\n",
       "    }\n",
       "</style>\n",
       "<table border=\"1\" class=\"dataframe\">\n",
       "  <thead>\n",
       "    <tr style=\"text-align: right;\">\n",
       "      <th></th>\n",
       "      <th>Agripada</th>\n",
       "      <th>Airoli</th>\n",
       "      <th>Ambernath West</th>\n",
       "      <th>Andheri East</th>\n",
       "      <th>Andheri West</th>\n",
       "      <th>Anjurdive</th>\n",
       "      <th>Babulnath Road</th>\n",
       "      <th>Badlapur West</th>\n",
       "      <th>Bandra East</th>\n",
       "      <th>Bandra Kurla Complex</th>\n",
       "      <th>...</th>\n",
       "      <th>Vasai</th>\n",
       "      <th>Vashi</th>\n",
       "      <th>Vikhroli</th>\n",
       "      <th>Vikroli East</th>\n",
       "      <th>Ville Parle East</th>\n",
       "      <th>Ville Parle West</th>\n",
       "      <th>Virar</th>\n",
       "      <th>Wadala</th>\n",
       "      <th>Worli</th>\n",
       "      <th>kandivali</th>\n",
       "    </tr>\n",
       "  </thead>\n",
       "  <tbody>\n",
       "    <tr>\n",
       "      <th>0</th>\n",
       "      <td>1</td>\n",
       "      <td>0</td>\n",
       "      <td>0</td>\n",
       "      <td>0</td>\n",
       "      <td>0</td>\n",
       "      <td>0</td>\n",
       "      <td>0</td>\n",
       "      <td>0</td>\n",
       "      <td>0</td>\n",
       "      <td>0</td>\n",
       "      <td>...</td>\n",
       "      <td>0</td>\n",
       "      <td>0</td>\n",
       "      <td>0</td>\n",
       "      <td>0</td>\n",
       "      <td>0</td>\n",
       "      <td>0</td>\n",
       "      <td>0</td>\n",
       "      <td>0</td>\n",
       "      <td>0</td>\n",
       "      <td>0</td>\n",
       "    </tr>\n",
       "    <tr>\n",
       "      <th>1</th>\n",
       "      <td>1</td>\n",
       "      <td>0</td>\n",
       "      <td>0</td>\n",
       "      <td>0</td>\n",
       "      <td>0</td>\n",
       "      <td>0</td>\n",
       "      <td>0</td>\n",
       "      <td>0</td>\n",
       "      <td>0</td>\n",
       "      <td>0</td>\n",
       "      <td>...</td>\n",
       "      <td>0</td>\n",
       "      <td>0</td>\n",
       "      <td>0</td>\n",
       "      <td>0</td>\n",
       "      <td>0</td>\n",
       "      <td>0</td>\n",
       "      <td>0</td>\n",
       "      <td>0</td>\n",
       "      <td>0</td>\n",
       "      <td>0</td>\n",
       "    </tr>\n",
       "    <tr>\n",
       "      <th>2</th>\n",
       "      <td>1</td>\n",
       "      <td>0</td>\n",
       "      <td>0</td>\n",
       "      <td>0</td>\n",
       "      <td>0</td>\n",
       "      <td>0</td>\n",
       "      <td>0</td>\n",
       "      <td>0</td>\n",
       "      <td>0</td>\n",
       "      <td>0</td>\n",
       "      <td>...</td>\n",
       "      <td>0</td>\n",
       "      <td>0</td>\n",
       "      <td>0</td>\n",
       "      <td>0</td>\n",
       "      <td>0</td>\n",
       "      <td>0</td>\n",
       "      <td>0</td>\n",
       "      <td>0</td>\n",
       "      <td>0</td>\n",
       "      <td>0</td>\n",
       "    </tr>\n",
       "    <tr>\n",
       "      <th>3</th>\n",
       "      <td>1</td>\n",
       "      <td>0</td>\n",
       "      <td>0</td>\n",
       "      <td>0</td>\n",
       "      <td>0</td>\n",
       "      <td>0</td>\n",
       "      <td>0</td>\n",
       "      <td>0</td>\n",
       "      <td>0</td>\n",
       "      <td>0</td>\n",
       "      <td>...</td>\n",
       "      <td>0</td>\n",
       "      <td>0</td>\n",
       "      <td>0</td>\n",
       "      <td>0</td>\n",
       "      <td>0</td>\n",
       "      <td>0</td>\n",
       "      <td>0</td>\n",
       "      <td>0</td>\n",
       "      <td>0</td>\n",
       "      <td>0</td>\n",
       "    </tr>\n",
       "    <tr>\n",
       "      <th>10</th>\n",
       "      <td>1</td>\n",
       "      <td>0</td>\n",
       "      <td>0</td>\n",
       "      <td>0</td>\n",
       "      <td>0</td>\n",
       "      <td>0</td>\n",
       "      <td>0</td>\n",
       "      <td>0</td>\n",
       "      <td>0</td>\n",
       "      <td>0</td>\n",
       "      <td>...</td>\n",
       "      <td>0</td>\n",
       "      <td>0</td>\n",
       "      <td>0</td>\n",
       "      <td>0</td>\n",
       "      <td>0</td>\n",
       "      <td>0</td>\n",
       "      <td>0</td>\n",
       "      <td>0</td>\n",
       "      <td>0</td>\n",
       "      <td>0</td>\n",
       "    </tr>\n",
       "  </tbody>\n",
       "</table>\n",
       "<p>5 rows × 121 columns</p>\n",
       "</div>"
      ],
      "text/plain": [
       "    Agripada  Airoli  Ambernath West  Andheri East  Andheri West  Anjurdive  \\\n",
       "0          1       0               0             0             0          0   \n",
       "1          1       0               0             0             0          0   \n",
       "2          1       0               0             0             0          0   \n",
       "3          1       0               0             0             0          0   \n",
       "10         1       0               0             0             0          0   \n",
       "\n",
       "    Babulnath Road  Badlapur West  Bandra East  Bandra Kurla Complex  ...  \\\n",
       "0                0              0            0                     0  ...   \n",
       "1                0              0            0                     0  ...   \n",
       "2                0              0            0                     0  ...   \n",
       "3                0              0            0                     0  ...   \n",
       "10               0              0            0                     0  ...   \n",
       "\n",
       "    Vasai  Vashi  Vikhroli  Vikroli East  Ville Parle East  Ville Parle West  \\\n",
       "0       0      0         0             0                 0                 0   \n",
       "1       0      0         0             0                 0                 0   \n",
       "2       0      0         0             0                 0                 0   \n",
       "3       0      0         0             0                 0                 0   \n",
       "10      0      0         0             0                 0                 0   \n",
       "\n",
       "    Virar  Wadala  Worli  kandivali  \n",
       "0       0       0      0          0  \n",
       "1       0       0      0          0  \n",
       "2       0       0      0          0  \n",
       "3       0       0      0          0  \n",
       "10      0       0      0          0  \n",
       "\n",
       "[5 rows x 121 columns]"
      ]
     },
     "execution_count": 31,
     "metadata": {},
     "output_type": "execute_result"
    }
   ],
   "source": [
    "dummies = pd.get_dummies(df5.location)\n",
    "dummies.head()"
   ]
  },
  {
   "cell_type": "code",
   "execution_count": 32,
   "id": "65387617",
   "metadata": {},
   "outputs": [
    {
     "data": {
      "text/html": [
       "<div>\n",
       "<style scoped>\n",
       "    .dataframe tbody tr th:only-of-type {\n",
       "        vertical-align: middle;\n",
       "    }\n",
       "\n",
       "    .dataframe tbody tr th {\n",
       "        vertical-align: top;\n",
       "    }\n",
       "\n",
       "    .dataframe thead th {\n",
       "        text-align: right;\n",
       "    }\n",
       "</style>\n",
       "<table border=\"1\" class=\"dataframe\">\n",
       "  <thead>\n",
       "    <tr style=\"text-align: right;\">\n",
       "      <th></th>\n",
       "      <th>bhk</th>\n",
       "      <th>total_sqft</th>\n",
       "      <th>price</th>\n",
       "      <th>location</th>\n",
       "      <th>Agripada</th>\n",
       "      <th>Airoli</th>\n",
       "      <th>Ambernath West</th>\n",
       "      <th>Andheri East</th>\n",
       "      <th>Andheri West</th>\n",
       "      <th>Anjurdive</th>\n",
       "      <th>...</th>\n",
       "      <th>Ulwe</th>\n",
       "      <th>Vasai</th>\n",
       "      <th>Vashi</th>\n",
       "      <th>Vikhroli</th>\n",
       "      <th>Vikroli East</th>\n",
       "      <th>Ville Parle East</th>\n",
       "      <th>Ville Parle West</th>\n",
       "      <th>Virar</th>\n",
       "      <th>Wadala</th>\n",
       "      <th>Worli</th>\n",
       "    </tr>\n",
       "  </thead>\n",
       "  <tbody>\n",
       "    <tr>\n",
       "      <th>0</th>\n",
       "      <td>2</td>\n",
       "      <td>650</td>\n",
       "      <td>2.62</td>\n",
       "      <td>Agripada</td>\n",
       "      <td>1</td>\n",
       "      <td>0</td>\n",
       "      <td>0</td>\n",
       "      <td>0</td>\n",
       "      <td>0</td>\n",
       "      <td>0</td>\n",
       "      <td>...</td>\n",
       "      <td>0</td>\n",
       "      <td>0</td>\n",
       "      <td>0</td>\n",
       "      <td>0</td>\n",
       "      <td>0</td>\n",
       "      <td>0</td>\n",
       "      <td>0</td>\n",
       "      <td>0</td>\n",
       "      <td>0</td>\n",
       "      <td>0</td>\n",
       "    </tr>\n",
       "    <tr>\n",
       "      <th>1</th>\n",
       "      <td>1</td>\n",
       "      <td>803</td>\n",
       "      <td>2.25</td>\n",
       "      <td>Agripada</td>\n",
       "      <td>1</td>\n",
       "      <td>0</td>\n",
       "      <td>0</td>\n",
       "      <td>0</td>\n",
       "      <td>0</td>\n",
       "      <td>0</td>\n",
       "      <td>...</td>\n",
       "      <td>0</td>\n",
       "      <td>0</td>\n",
       "      <td>0</td>\n",
       "      <td>0</td>\n",
       "      <td>0</td>\n",
       "      <td>0</td>\n",
       "      <td>0</td>\n",
       "      <td>0</td>\n",
       "      <td>0</td>\n",
       "      <td>0</td>\n",
       "    </tr>\n",
       "    <tr>\n",
       "      <th>2</th>\n",
       "      <td>1</td>\n",
       "      <td>684</td>\n",
       "      <td>1.70</td>\n",
       "      <td>Agripada</td>\n",
       "      <td>1</td>\n",
       "      <td>0</td>\n",
       "      <td>0</td>\n",
       "      <td>0</td>\n",
       "      <td>0</td>\n",
       "      <td>0</td>\n",
       "      <td>...</td>\n",
       "      <td>0</td>\n",
       "      <td>0</td>\n",
       "      <td>0</td>\n",
       "      <td>0</td>\n",
       "      <td>0</td>\n",
       "      <td>0</td>\n",
       "      <td>0</td>\n",
       "      <td>0</td>\n",
       "      <td>0</td>\n",
       "      <td>0</td>\n",
       "    </tr>\n",
       "    <tr>\n",
       "      <th>3</th>\n",
       "      <td>1</td>\n",
       "      <td>545</td>\n",
       "      <td>1.60</td>\n",
       "      <td>Agripada</td>\n",
       "      <td>1</td>\n",
       "      <td>0</td>\n",
       "      <td>0</td>\n",
       "      <td>0</td>\n",
       "      <td>0</td>\n",
       "      <td>0</td>\n",
       "      <td>...</td>\n",
       "      <td>0</td>\n",
       "      <td>0</td>\n",
       "      <td>0</td>\n",
       "      <td>0</td>\n",
       "      <td>0</td>\n",
       "      <td>0</td>\n",
       "      <td>0</td>\n",
       "      <td>0</td>\n",
       "      <td>0</td>\n",
       "      <td>0</td>\n",
       "    </tr>\n",
       "    <tr>\n",
       "      <th>10</th>\n",
       "      <td>4</td>\n",
       "      <td>3454</td>\n",
       "      <td>12.50</td>\n",
       "      <td>Agripada</td>\n",
       "      <td>1</td>\n",
       "      <td>0</td>\n",
       "      <td>0</td>\n",
       "      <td>0</td>\n",
       "      <td>0</td>\n",
       "      <td>0</td>\n",
       "      <td>...</td>\n",
       "      <td>0</td>\n",
       "      <td>0</td>\n",
       "      <td>0</td>\n",
       "      <td>0</td>\n",
       "      <td>0</td>\n",
       "      <td>0</td>\n",
       "      <td>0</td>\n",
       "      <td>0</td>\n",
       "      <td>0</td>\n",
       "      <td>0</td>\n",
       "    </tr>\n",
       "  </tbody>\n",
       "</table>\n",
       "<p>5 rows × 124 columns</p>\n",
       "</div>"
      ],
      "text/plain": [
       "    bhk  total_sqft  price  location  Agripada  Airoli  Ambernath West  \\\n",
       "0     2         650   2.62  Agripada         1       0               0   \n",
       "1     1         803   2.25  Agripada         1       0               0   \n",
       "2     1         684   1.70  Agripada         1       0               0   \n",
       "3     1         545   1.60  Agripada         1       0               0   \n",
       "10    4        3454  12.50  Agripada         1       0               0   \n",
       "\n",
       "    Andheri East  Andheri West  Anjurdive  ...  Ulwe  Vasai  Vashi  Vikhroli  \\\n",
       "0              0             0          0  ...     0      0      0         0   \n",
       "1              0             0          0  ...     0      0      0         0   \n",
       "2              0             0          0  ...     0      0      0         0   \n",
       "3              0             0          0  ...     0      0      0         0   \n",
       "10             0             0          0  ...     0      0      0         0   \n",
       "\n",
       "    Vikroli East  Ville Parle East  Ville Parle West  Virar  Wadala  Worli  \n",
       "0              0                 0                 0      0       0      0  \n",
       "1              0                 0                 0      0       0      0  \n",
       "2              0                 0                 0      0       0      0  \n",
       "3              0                 0                 0      0       0      0  \n",
       "10             0                 0                 0      0       0      0  \n",
       "\n",
       "[5 rows x 124 columns]"
      ]
     },
     "execution_count": 32,
     "metadata": {},
     "output_type": "execute_result"
    }
   ],
   "source": [
    "df6 = pd.concat([df5,dummies.drop('kandivali',axis='columns')],axis='columns')\n",
    "df6.head()"
   ]
  },
  {
   "cell_type": "code",
   "execution_count": 33,
   "id": "110c7034",
   "metadata": {},
   "outputs": [
    {
     "data": {
      "text/html": [
       "<div>\n",
       "<style scoped>\n",
       "    .dataframe tbody tr th:only-of-type {\n",
       "        vertical-align: middle;\n",
       "    }\n",
       "\n",
       "    .dataframe tbody tr th {\n",
       "        vertical-align: top;\n",
       "    }\n",
       "\n",
       "    .dataframe thead th {\n",
       "        text-align: right;\n",
       "    }\n",
       "</style>\n",
       "<table border=\"1\" class=\"dataframe\">\n",
       "  <thead>\n",
       "    <tr style=\"text-align: right;\">\n",
       "      <th></th>\n",
       "      <th>bhk</th>\n",
       "      <th>total_sqft</th>\n",
       "      <th>price</th>\n",
       "      <th>Agripada</th>\n",
       "      <th>Airoli</th>\n",
       "      <th>Ambernath West</th>\n",
       "      <th>Andheri East</th>\n",
       "      <th>Andheri West</th>\n",
       "      <th>Anjurdive</th>\n",
       "      <th>Babulnath Road</th>\n",
       "      <th>...</th>\n",
       "      <th>Ulwe</th>\n",
       "      <th>Vasai</th>\n",
       "      <th>Vashi</th>\n",
       "      <th>Vikhroli</th>\n",
       "      <th>Vikroli East</th>\n",
       "      <th>Ville Parle East</th>\n",
       "      <th>Ville Parle West</th>\n",
       "      <th>Virar</th>\n",
       "      <th>Wadala</th>\n",
       "      <th>Worli</th>\n",
       "    </tr>\n",
       "  </thead>\n",
       "  <tbody>\n",
       "    <tr>\n",
       "      <th>0</th>\n",
       "      <td>2</td>\n",
       "      <td>650</td>\n",
       "      <td>2.62</td>\n",
       "      <td>1</td>\n",
       "      <td>0</td>\n",
       "      <td>0</td>\n",
       "      <td>0</td>\n",
       "      <td>0</td>\n",
       "      <td>0</td>\n",
       "      <td>0</td>\n",
       "      <td>...</td>\n",
       "      <td>0</td>\n",
       "      <td>0</td>\n",
       "      <td>0</td>\n",
       "      <td>0</td>\n",
       "      <td>0</td>\n",
       "      <td>0</td>\n",
       "      <td>0</td>\n",
       "      <td>0</td>\n",
       "      <td>0</td>\n",
       "      <td>0</td>\n",
       "    </tr>\n",
       "    <tr>\n",
       "      <th>1</th>\n",
       "      <td>1</td>\n",
       "      <td>803</td>\n",
       "      <td>2.25</td>\n",
       "      <td>1</td>\n",
       "      <td>0</td>\n",
       "      <td>0</td>\n",
       "      <td>0</td>\n",
       "      <td>0</td>\n",
       "      <td>0</td>\n",
       "      <td>0</td>\n",
       "      <td>...</td>\n",
       "      <td>0</td>\n",
       "      <td>0</td>\n",
       "      <td>0</td>\n",
       "      <td>0</td>\n",
       "      <td>0</td>\n",
       "      <td>0</td>\n",
       "      <td>0</td>\n",
       "      <td>0</td>\n",
       "      <td>0</td>\n",
       "      <td>0</td>\n",
       "    </tr>\n",
       "    <tr>\n",
       "      <th>2</th>\n",
       "      <td>1</td>\n",
       "      <td>684</td>\n",
       "      <td>1.70</td>\n",
       "      <td>1</td>\n",
       "      <td>0</td>\n",
       "      <td>0</td>\n",
       "      <td>0</td>\n",
       "      <td>0</td>\n",
       "      <td>0</td>\n",
       "      <td>0</td>\n",
       "      <td>...</td>\n",
       "      <td>0</td>\n",
       "      <td>0</td>\n",
       "      <td>0</td>\n",
       "      <td>0</td>\n",
       "      <td>0</td>\n",
       "      <td>0</td>\n",
       "      <td>0</td>\n",
       "      <td>0</td>\n",
       "      <td>0</td>\n",
       "      <td>0</td>\n",
       "    </tr>\n",
       "    <tr>\n",
       "      <th>3</th>\n",
       "      <td>1</td>\n",
       "      <td>545</td>\n",
       "      <td>1.60</td>\n",
       "      <td>1</td>\n",
       "      <td>0</td>\n",
       "      <td>0</td>\n",
       "      <td>0</td>\n",
       "      <td>0</td>\n",
       "      <td>0</td>\n",
       "      <td>0</td>\n",
       "      <td>...</td>\n",
       "      <td>0</td>\n",
       "      <td>0</td>\n",
       "      <td>0</td>\n",
       "      <td>0</td>\n",
       "      <td>0</td>\n",
       "      <td>0</td>\n",
       "      <td>0</td>\n",
       "      <td>0</td>\n",
       "      <td>0</td>\n",
       "      <td>0</td>\n",
       "    </tr>\n",
       "    <tr>\n",
       "      <th>10</th>\n",
       "      <td>4</td>\n",
       "      <td>3454</td>\n",
       "      <td>12.50</td>\n",
       "      <td>1</td>\n",
       "      <td>0</td>\n",
       "      <td>0</td>\n",
       "      <td>0</td>\n",
       "      <td>0</td>\n",
       "      <td>0</td>\n",
       "      <td>0</td>\n",
       "      <td>...</td>\n",
       "      <td>0</td>\n",
       "      <td>0</td>\n",
       "      <td>0</td>\n",
       "      <td>0</td>\n",
       "      <td>0</td>\n",
       "      <td>0</td>\n",
       "      <td>0</td>\n",
       "      <td>0</td>\n",
       "      <td>0</td>\n",
       "      <td>0</td>\n",
       "    </tr>\n",
       "  </tbody>\n",
       "</table>\n",
       "<p>5 rows × 123 columns</p>\n",
       "</div>"
      ],
      "text/plain": [
       "    bhk  total_sqft  price  Agripada  Airoli  Ambernath West  Andheri East  \\\n",
       "0     2         650   2.62         1       0               0             0   \n",
       "1     1         803   2.25         1       0               0             0   \n",
       "2     1         684   1.70         1       0               0             0   \n",
       "3     1         545   1.60         1       0               0             0   \n",
       "10    4        3454  12.50         1       0               0             0   \n",
       "\n",
       "    Andheri West  Anjurdive  Babulnath Road  ...  Ulwe  Vasai  Vashi  \\\n",
       "0              0          0               0  ...     0      0      0   \n",
       "1              0          0               0  ...     0      0      0   \n",
       "2              0          0               0  ...     0      0      0   \n",
       "3              0          0               0  ...     0      0      0   \n",
       "10             0          0               0  ...     0      0      0   \n",
       "\n",
       "    Vikhroli  Vikroli East  Ville Parle East  Ville Parle West  Virar  Wadala  \\\n",
       "0          0             0                 0                 0      0       0   \n",
       "1          0             0                 0                 0      0       0   \n",
       "2          0             0                 0                 0      0       0   \n",
       "3          0             0                 0                 0      0       0   \n",
       "10         0             0                 0                 0      0       0   \n",
       "\n",
       "    Worli  \n",
       "0       0  \n",
       "1       0  \n",
       "2       0  \n",
       "3       0  \n",
       "10      0  \n",
       "\n",
       "[5 rows x 123 columns]"
      ]
     },
     "execution_count": 33,
     "metadata": {},
     "output_type": "execute_result"
    }
   ],
   "source": [
    "df7 = df6.drop('location',axis='columns')\n",
    "df7.head()"
   ]
  },
  {
   "cell_type": "code",
   "execution_count": 34,
   "id": "35fe2848",
   "metadata": {},
   "outputs": [
    {
     "data": {
      "text/plain": [
       "(15846, 123)"
      ]
     },
     "execution_count": 34,
     "metadata": {},
     "output_type": "execute_result"
    }
   ],
   "source": [
    "df7.shape"
   ]
  },
  {
   "cell_type": "code",
   "execution_count": 35,
   "id": "da657cbb",
   "metadata": {},
   "outputs": [
    {
     "data": {
      "text/html": [
       "<div>\n",
       "<style scoped>\n",
       "    .dataframe tbody tr th:only-of-type {\n",
       "        vertical-align: middle;\n",
       "    }\n",
       "\n",
       "    .dataframe tbody tr th {\n",
       "        vertical-align: top;\n",
       "    }\n",
       "\n",
       "    .dataframe thead th {\n",
       "        text-align: right;\n",
       "    }\n",
       "</style>\n",
       "<table border=\"1\" class=\"dataframe\">\n",
       "  <thead>\n",
       "    <tr style=\"text-align: right;\">\n",
       "      <th></th>\n",
       "      <th>bhk</th>\n",
       "      <th>total_sqft</th>\n",
       "      <th>Agripada</th>\n",
       "      <th>Airoli</th>\n",
       "      <th>Ambernath West</th>\n",
       "      <th>Andheri East</th>\n",
       "      <th>Andheri West</th>\n",
       "      <th>Anjurdive</th>\n",
       "      <th>Babulnath Road</th>\n",
       "      <th>Badlapur West</th>\n",
       "      <th>...</th>\n",
       "      <th>Ulwe</th>\n",
       "      <th>Vasai</th>\n",
       "      <th>Vashi</th>\n",
       "      <th>Vikhroli</th>\n",
       "      <th>Vikroli East</th>\n",
       "      <th>Ville Parle East</th>\n",
       "      <th>Ville Parle West</th>\n",
       "      <th>Virar</th>\n",
       "      <th>Wadala</th>\n",
       "      <th>Worli</th>\n",
       "    </tr>\n",
       "  </thead>\n",
       "  <tbody>\n",
       "    <tr>\n",
       "      <th>0</th>\n",
       "      <td>2</td>\n",
       "      <td>650</td>\n",
       "      <td>1</td>\n",
       "      <td>0</td>\n",
       "      <td>0</td>\n",
       "      <td>0</td>\n",
       "      <td>0</td>\n",
       "      <td>0</td>\n",
       "      <td>0</td>\n",
       "      <td>0</td>\n",
       "      <td>...</td>\n",
       "      <td>0</td>\n",
       "      <td>0</td>\n",
       "      <td>0</td>\n",
       "      <td>0</td>\n",
       "      <td>0</td>\n",
       "      <td>0</td>\n",
       "      <td>0</td>\n",
       "      <td>0</td>\n",
       "      <td>0</td>\n",
       "      <td>0</td>\n",
       "    </tr>\n",
       "    <tr>\n",
       "      <th>1</th>\n",
       "      <td>1</td>\n",
       "      <td>803</td>\n",
       "      <td>1</td>\n",
       "      <td>0</td>\n",
       "      <td>0</td>\n",
       "      <td>0</td>\n",
       "      <td>0</td>\n",
       "      <td>0</td>\n",
       "      <td>0</td>\n",
       "      <td>0</td>\n",
       "      <td>...</td>\n",
       "      <td>0</td>\n",
       "      <td>0</td>\n",
       "      <td>0</td>\n",
       "      <td>0</td>\n",
       "      <td>0</td>\n",
       "      <td>0</td>\n",
       "      <td>0</td>\n",
       "      <td>0</td>\n",
       "      <td>0</td>\n",
       "      <td>0</td>\n",
       "    </tr>\n",
       "    <tr>\n",
       "      <th>2</th>\n",
       "      <td>1</td>\n",
       "      <td>684</td>\n",
       "      <td>1</td>\n",
       "      <td>0</td>\n",
       "      <td>0</td>\n",
       "      <td>0</td>\n",
       "      <td>0</td>\n",
       "      <td>0</td>\n",
       "      <td>0</td>\n",
       "      <td>0</td>\n",
       "      <td>...</td>\n",
       "      <td>0</td>\n",
       "      <td>0</td>\n",
       "      <td>0</td>\n",
       "      <td>0</td>\n",
       "      <td>0</td>\n",
       "      <td>0</td>\n",
       "      <td>0</td>\n",
       "      <td>0</td>\n",
       "      <td>0</td>\n",
       "      <td>0</td>\n",
       "    </tr>\n",
       "  </tbody>\n",
       "</table>\n",
       "<p>3 rows × 122 columns</p>\n",
       "</div>"
      ],
      "text/plain": [
       "   bhk  total_sqft  Agripada  Airoli  Ambernath West  Andheri East  \\\n",
       "0    2         650         1       0               0             0   \n",
       "1    1         803         1       0               0             0   \n",
       "2    1         684         1       0               0             0   \n",
       "\n",
       "   Andheri West  Anjurdive  Babulnath Road  Badlapur West  ...  Ulwe  Vasai  \\\n",
       "0             0          0               0              0  ...     0      0   \n",
       "1             0          0               0              0  ...     0      0   \n",
       "2             0          0               0              0  ...     0      0   \n",
       "\n",
       "   Vashi  Vikhroli  Vikroli East  Ville Parle East  Ville Parle West  Virar  \\\n",
       "0      0         0             0                 0                 0      0   \n",
       "1      0         0             0                 0                 0      0   \n",
       "2      0         0             0                 0                 0      0   \n",
       "\n",
       "   Wadala  Worli  \n",
       "0       0      0  \n",
       "1       0      0  \n",
       "2       0      0  \n",
       "\n",
       "[3 rows x 122 columns]"
      ]
     },
     "execution_count": 35,
     "metadata": {},
     "output_type": "execute_result"
    }
   ],
   "source": [
    "X = df7.drop(['price'],axis='columns')\n",
    "X.head(3)"
   ]
  },
  {
   "cell_type": "code",
   "execution_count": 36,
   "id": "e50e9f88",
   "metadata": {},
   "outputs": [
    {
     "data": {
      "text/plain": [
       "(15846, 122)"
      ]
     },
     "execution_count": 36,
     "metadata": {},
     "output_type": "execute_result"
    }
   ],
   "source": [
    "X.shape"
   ]
  },
  {
   "cell_type": "code",
   "execution_count": 37,
   "id": "3a203ed3",
   "metadata": {},
   "outputs": [
    {
     "data": {
      "text/plain": [
       "0    2.62\n",
       "1    2.25\n",
       "2    1.70\n",
       "Name: price, dtype: float64"
      ]
     },
     "execution_count": 37,
     "metadata": {},
     "output_type": "execute_result"
    }
   ],
   "source": [
    "y = df7.price\n",
    "y.head(3)"
   ]
  },
  {
   "cell_type": "code",
   "execution_count": 38,
   "id": "ebea227d",
   "metadata": {},
   "outputs": [
    {
     "data": {
      "text/plain": [
       "15846"
      ]
     },
     "execution_count": 38,
     "metadata": {},
     "output_type": "execute_result"
    }
   ],
   "source": [
    "len(y)"
   ]
  },
  {
   "cell_type": "code",
   "execution_count": 39,
   "id": "f80ce02b",
   "metadata": {},
   "outputs": [],
   "source": [
    "from sklearn.model_selection import train_test_split\n",
    "X_train, X_test, y_train, y_test = train_test_split(X,y,test_size=0.2,random_state=10)"
   ]
  },
  {
   "cell_type": "code",
   "execution_count": 40,
   "id": "aad5dea8",
   "metadata": {},
   "outputs": [
    {
     "data": {
      "text/plain": [
       "0.8687373744119067"
      ]
     },
     "execution_count": 40,
     "metadata": {},
     "output_type": "execute_result"
    }
   ],
   "source": [
    "from sklearn.linear_model import LinearRegression\n",
    "lr_clf = LinearRegression()\n",
    "lr_clf.fit(X_train,y_train)\n",
    "lr_clf.score(X_test,y_test)"
   ]
  },
  {
   "cell_type": "code",
   "execution_count": 41,
   "id": "4e65f899",
   "metadata": {},
   "outputs": [
    {
     "data": {
      "text/plain": [
       "array([0.84532152, 0.83390567, 0.85338436, 0.85662465, 0.86667917])"
      ]
     },
     "execution_count": 41,
     "metadata": {},
     "output_type": "execute_result"
    }
   ],
   "source": [
    "from sklearn.model_selection import ShuffleSplit\n",
    "from sklearn.model_selection import cross_val_score\n",
    "\n",
    "cv = ShuffleSplit(n_splits=5, test_size=0.2, random_state=0)\n",
    "\n",
    "cross_val_score(LinearRegression(), X, y, cv=cv)"
   ]
  },
  {
   "cell_type": "code",
   "execution_count": 42,
   "id": "ea0f9640",
   "metadata": {},
   "outputs": [
    {
     "data": {
      "text/html": [
       "<div>\n",
       "<style scoped>\n",
       "    .dataframe tbody tr th:only-of-type {\n",
       "        vertical-align: middle;\n",
       "    }\n",
       "\n",
       "    .dataframe tbody tr th {\n",
       "        vertical-align: top;\n",
       "    }\n",
       "\n",
       "    .dataframe thead th {\n",
       "        text-align: right;\n",
       "    }\n",
       "</style>\n",
       "<table border=\"1\" class=\"dataframe\">\n",
       "  <thead>\n",
       "    <tr style=\"text-align: right;\">\n",
       "      <th></th>\n",
       "      <th>model</th>\n",
       "      <th>best_score</th>\n",
       "      <th>best_params</th>\n",
       "    </tr>\n",
       "  </thead>\n",
       "  <tbody>\n",
       "    <tr>\n",
       "      <th>0</th>\n",
       "      <td>linear_regression</td>\n",
       "      <td>0.851183</td>\n",
       "      <td>{'normalize': False}</td>\n",
       "    </tr>\n",
       "    <tr>\n",
       "      <th>1</th>\n",
       "      <td>lasso</td>\n",
       "      <td>0.591827</td>\n",
       "      <td>{'alpha': 1, 'selection': 'random'}</td>\n",
       "    </tr>\n",
       "    <tr>\n",
       "      <th>2</th>\n",
       "      <td>decision_tree</td>\n",
       "      <td>0.943285</td>\n",
       "      <td>{'criterion': 'friedman_mse', 'splitter': 'ran...</td>\n",
       "    </tr>\n",
       "  </tbody>\n",
       "</table>\n",
       "</div>"
      ],
      "text/plain": [
       "               model  best_score  \\\n",
       "0  linear_regression    0.851183   \n",
       "1              lasso    0.591827   \n",
       "2      decision_tree    0.943285   \n",
       "\n",
       "                                         best_params  \n",
       "0                               {'normalize': False}  \n",
       "1                {'alpha': 1, 'selection': 'random'}  \n",
       "2  {'criterion': 'friedman_mse', 'splitter': 'ran...  "
      ]
     },
     "execution_count": 42,
     "metadata": {},
     "output_type": "execute_result"
    }
   ],
   "source": [
    "from sklearn.model_selection import GridSearchCV\n",
    "\n",
    "from sklearn.linear_model import Lasso\n",
    "from sklearn.tree import DecisionTreeRegressor\n",
    "\n",
    "def find_best_model_using_gridsearchcv(X,y):\n",
    "    algos = {\n",
    "        'linear_regression' : {\n",
    "            'model': LinearRegression(),\n",
    "            'params': {\n",
    "                'normalize': [True, False]\n",
    "            }\n",
    "        },\n",
    "        'lasso': {\n",
    "            'model': Lasso(),\n",
    "            'params': {\n",
    "                'alpha': [1,2],\n",
    "                'selection': ['random', 'cyclic']\n",
    "            }\n",
    "        },\n",
    "        'decision_tree': {\n",
    "            'model': DecisionTreeRegressor(),\n",
    "            'params': {\n",
    "                'criterion' : ['mse','friedman_mse'],\n",
    "                'splitter': ['best','random']\n",
    "            }\n",
    "        }\n",
    "    }\n",
    "    scores = []\n",
    "    cv = ShuffleSplit(n_splits=5, test_size=0.2, random_state=0)\n",
    "    for algo_name, config in algos.items():\n",
    "        gs =  GridSearchCV(config['model'], config['params'], cv=cv, return_train_score=False)\n",
    "        gs.fit(X,y)\n",
    "        scores.append({\n",
    "            'model': algo_name,\n",
    "            'best_score': gs.best_score_,\n",
    "            'best_params': gs.best_params_\n",
    "        })\n",
    "\n",
    "    return pd.DataFrame(scores,columns=['model','best_score','best_params'])\n",
    "\n",
    "find_best_model_using_gridsearchcv(X,y)"
   ]
  },
  {
   "cell_type": "code",
   "execution_count": 43,
   "id": "47e42777",
   "metadata": {},
   "outputs": [
    {
     "data": {
      "text/plain": [
       "Index(['bhk', 'total_sqft', 'Agripada', 'Airoli', 'Ambernath West',\n",
       "       'Andheri East', 'Andheri West', 'Anjurdive', 'Babulnath Road',\n",
       "       'Badlapur West',\n",
       "       ...\n",
       "       'Ulwe', 'Vasai', 'Vashi', 'Vikhroli', 'Vikroli East',\n",
       "       'Ville Parle East', 'Ville Parle West', 'Virar', 'Wadala', 'Worli'],\n",
       "      dtype='object', length=122)"
      ]
     },
     "execution_count": 43,
     "metadata": {},
     "output_type": "execute_result"
    }
   ],
   "source": [
    "X.columns"
   ]
  },
  {
   "cell_type": "code",
   "execution_count": 44,
   "id": "76ac3668",
   "metadata": {},
   "outputs": [],
   "source": [
    "def predict_price(bhk,sqft,location):    \n",
    "    loc_index = np.where(X.columns==location)[0][0]\n",
    "\n",
    "    x = np.zeros(len(X.columns))\n",
    "    x[0] = bhk\n",
    "    x[1] = sqft\n",
    "    if loc_index >= 0:\n",
    "        x[loc_index] = 1\n",
    "\n",
    "    return lr_clf.predict([x])[0]"
   ]
  },
  {
   "cell_type": "code",
   "execution_count": 45,
   "id": "7b90f546",
   "metadata": {},
   "outputs": [
    {
     "data": {
      "text/plain": [
       "2.0191598187900826"
      ]
     },
     "execution_count": 45,
     "metadata": {},
     "output_type": "execute_result"
    }
   ],
   "source": [
    "predict_price(2,600,'Andheri West')"
   ]
  },
  {
   "cell_type": "code",
   "execution_count": 46,
   "id": "dad66674",
   "metadata": {},
   "outputs": [
    {
     "data": {
      "text/plain": [
       "1.079875118816876"
      ]
     },
     "execution_count": 46,
     "metadata": {},
     "output_type": "execute_result"
    }
   ],
   "source": [
    "predict_price(1,300,'Wadala')"
   ]
  },
  {
   "cell_type": "code",
   "execution_count": 47,
   "id": "d393b06b",
   "metadata": {},
   "outputs": [],
   "source": [
    "import pickle\n",
    "with open('Mumbai_house_prediction_model.pickle','wb') as f:\n",
    "    pickle.dump(lr_clf,f)"
   ]
  },
  {
   "cell_type": "code",
   "execution_count": 48,
   "id": "5c8607d2",
   "metadata": {},
   "outputs": [],
   "source": [
    "import json\n",
    "columns = {\n",
    "    'data_columns' : [col.lower() for col in X.columns]\n",
    "}\n",
    "with open(\"columns.json\",\"w\") as f:\n",
    "    f.write(json.dumps(columns))"
   ]
  }
 ],
 "metadata": {
  "kernelspec": {
   "display_name": "Python 3",
   "language": "python",
   "name": "python3"
  },
  "language_info": {
   "codemirror_mode": {
    "name": "ipython",
    "version": 3
   },
   "file_extension": ".py",
   "mimetype": "text/x-python",
   "name": "python",
   "nbconvert_exporter": "python",
   "pygments_lexer": "ipython3",
   "version": "3.8.8"
  }
 },
 "nbformat": 4,
 "nbformat_minor": 5
}
